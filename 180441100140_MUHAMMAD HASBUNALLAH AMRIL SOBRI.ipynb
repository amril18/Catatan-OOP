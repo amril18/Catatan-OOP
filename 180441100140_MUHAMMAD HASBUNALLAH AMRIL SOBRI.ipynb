{
 "cells": [
  {
   "cell_type": "markdown",
   "metadata": {},
   "source": [
    "# Catatan PBO Muhammad Hasbunallah Amril Sobri 180441100140"
   ]
  },
  {
   "attachments": {},
   "cell_type": "markdown",
   "metadata": {},
   "source": [
    "# Class VS Object\n",
    "![](Github/Picture2.png)\n",
    "Class adalah wadah pendefinisian umum sebuah objek. Contoh : Class Warna\n",
    "\n",
    "Class digunakan untuk membangun objek\n",
    "\n",
    "Objek adalah isi dalam class yang memiliki berbagai macam jenis(sekumpulan variabel) yang tercipta pada class. contoh : merah, kuning\n",
    "\n",
    "Properti : Atribut dalam kelas contoh (Manusia berambut)\n",
    "\n",
    "Method : Metode pada objek (Manusia berjalan)\n",
    "\n",
    "Class bisa digunakan sebagai blueprint dan penciptaan objek\n",
    "\n",
    "Constructor : Melakukan identifikasi objek pada class. Dilambangkan dengan (def_ _init_ _(Self,parameter input objek)\n",
    "\n",
    "Contoh :\n",
    "![](Github/Screenshot%20%2812%29.png)\n",
    "\n",
    "Contoh 2:\n",
    "![](Github/Screenshot%20%2837%29.png)\n"
   ]
  },
  {
   "cell_type": "code",
   "execution_count": 9,
   "metadata": {},
   "outputs": [
    {
     "name": "stdout",
     "output_type": "stream",
     "text": [
      "Luas permukaan :  16\n",
      "Volume kubus adalah 64\n"
     ]
    }
   ],
   "source": [
    "#SourceCodeContoh:\n",
    "#Contoh1:\n",
    "class kubus():\n",
    "    def __init__(self,s):\n",
    "        self.sisi=s\n",
    "    def tampilkanluaspermukaan(self):\n",
    "        print('Luas permukaan : ',self.sisi**2)\n",
    "    def volume(self):\n",
    "        print('Volume kubus adalah',self.sisi**3)\n",
    "kubus1=kubus(4)\n",
    "kubus1.tampilkanluaspermukaan()\n",
    "kubus1.volume()\n",
    "\n"
   ]
  },
  {
   "cell_type": "code",
   "execution_count": 8,
   "metadata": {},
   "outputs": [
    {
     "name": "stdout",
     "output_type": "stream",
     "text": [
      "Masukkan Nama Anda = asd\n",
      "Masukkan NIM anda = 180441100140\n",
      "Nama anda =  asd\n",
      "NIM =  180441100140\n",
      "Masukkan nilai IPS 1 = 3.00\n",
      "Masukkan nilai IPS 2 = 3.00\n",
      "Masukkan nilai IPS 3 = 3.00\n",
      "\n",
      "IPK anda =  3.0\n",
      "Selamat anda mendapatkan bidikmisi\n",
      "\n",
      "Times of this date :  2019-04-03 19:55:07.338320\n",
      "Saat ini Anda semester =  2\n"
     ]
    }
   ],
   "source": [
    "#Contoh2:\n",
    "from datetime import datetime\n",
    "from datetime import time\n",
    "class mhs:\n",
    "    def __init__ (self,nama,nim):\n",
    "        self.nama = nama\n",
    "        self.nim  = nim\n",
    "    def tampilkan(self):\n",
    "        print(\"Nama anda = \",self.nama)\n",
    "        print(\"NIM = \",self.nim)\n",
    "    def ipk(self):\n",
    "        ips1 = float(input(\"Masukkan nilai IPS 1 = \"))\n",
    "        ips2 = float(input(\"Masukkan nilai IPS 2 = \"))\n",
    "        ips3 = float(input(\"Masukkan nilai IPS 3 = \"))\n",
    "        ipk  = (ips1+ips2+ips3)/3\n",
    "        print()\n",
    "        print(\"IPK anda = \",ipk)\n",
    "        if ipk >= 3:\n",
    "            print (\"Selamat anda mendapatkan bidikmisi\")\n",
    "        else :\n",
    "            print (\"Maaf anda tidak mendapatkan bidikmisi\")\n",
    "    def semester(self):\n",
    "        skrg =datetime.now()\n",
    "        bln =datetime.now()\n",
    "        thn =str(skrg.year)\n",
    "        n = (bln.month)\n",
    "        print()\n",
    "        print(\"Times of this date : \",skrg)\n",
    "        a=int(self.nim[:2])\n",
    "        b=int(thn[2:])\n",
    "        month=int(n)\n",
    "        c=b-a\n",
    "        if a==b and month<8:\n",
    "            print (\"Anda belum terdaftar sebagai mahasiswa\")\n",
    "        else:\n",
    "            if c%2==1:\n",
    "                c+=1\n",
    "                print(\"Saat ini Anda semester = \",c)\n",
    "            else :\n",
    "                c+=2\n",
    "                print(\"Saat ini Anda semester = \",c)\n",
    "mahasiswa = mhs(input(\"Masukkan Nama Anda = \"),input(\"Masukkan NIM anda = \"))\n",
    "mahasiswa.tampilkan()\n",
    "mahasiswa.ipk()\n",
    "mahasiswa.semester()"
   ]
  },
  {
   "attachments": {},
   "cell_type": "markdown",
   "metadata": {},
   "source": [
    "### Inheritance\n",
    "![](Github/Picture11.png)\n",
    "\n",
    "Inheritance(Pewarisan) : Penurunan sifat (Attribute dan/atau Method) Class Parent (Kelas induk) kepada Class Children (Kelas Anak).\n",
    "\n",
    "Contoh implementasi Inheritance sederhana :\n",
    "![](Github/Screenshot%20%2814%29.png)\n"
   ]
  },
  {
   "cell_type": "code",
   "execution_count": 2,
   "metadata": {},
   "outputs": [
    {
     "name": "stdout",
     "output_type": "stream",
     "text": [
      "Name :  brian\n",
      "Name :  Diana\n",
      "Programming python\n"
     ]
    }
   ],
   "source": [
    "#Sourcecodeprogram:\n",
    "class user:\n",
    "    name = \"\"\n",
    "    def __init__(self,name):\n",
    "        self.name=name\n",
    "    def printName(self):\n",
    "        print('Name : ',self.name)\n",
    "class programmer(user):\n",
    "    def __init__(self,name):\n",
    "        self.name=name\n",
    "    def doPython(self):\n",
    "        print(\"Programming python\")\n",
    "brian=user('brian')\n",
    "brian.printName()\n",
    "diana=programmer(\"Diana\")\n",
    "diana.printName()\n",
    "diana.doPython()"
   ]
  },
  {
   "attachments": {},
   "cell_type": "markdown",
   "metadata": {},
   "source": [
    "# Type Of Inheritance\n",
    "Inheritance terbagi atas 4 jenis :\n",
    "![](Github/Picture12.png)\n",
    "1. Default\n",
    "\n",
    "    Pewarisan ini memungkinkan kelas anak memiliki kesamaan dengan induk sebanyak 100%  \n",
    "  Pewarisan ini dapat dilakukan dengan menggunakan fungsi (pass).\n",
    "  \n",
    "  Contoh :\n",
    "      ![](Github/Screenshot%20%2817%29.png)\n",
    "\n",
    "2. Overriding Class\n",
    "    \n",
    "    Pewarisan ini memungkinkan Class anak memiliki method dan/atau attribute yang sama dengan induk, namun nilai pada attribute berbeda dengan induk.\n",
    "    \n",
    "    contoh:\n",
    "  ![](Github/Screenshot%20%2819%29.png)\n",
    " \n",
    "3. Super Class\n",
    "\n",
    "    Pewarisan ini memungkinkan class anak memiliki attribute tambahan yang tidak di miliki oleh induk pada method yang sama.\n",
    "    \n",
    "    contoh:\n",
    "![](Github/Screenshot%20%2839%29.png)\n",
    "\n",
    "4. Multiple Class\n",
    "    \n",
    "    Pewarisan ini memungkinkan Class anak memiliki kombinasi kedua sifat Class induk (Kombinasi sifat)\n",
    "    \n",
    "    contoh 1 :\n",
    "   ![](Github/Screenshot%20%2825%29.png)\n",
    "   \n",
    "    contoh 2 :\n",
    "    ![](Github/Screenshot%20%2827%29.png)\n"
   ]
  },
  {
   "cell_type": "code",
   "execution_count": 3,
   "metadata": {},
   "outputs": [
    {
     "name": "stdout",
     "output_type": "stream",
     "text": [
      "The fish is swimming\n",
      "The fish can swim backwards\n",
      "Terry Fish\n",
      "The fish is swimming\n",
      "The fish can swim backwards\n",
      "The fish is swimming\n",
      "The fish can swim backwards\n",
      "The clownfish is coexisting with sea anemone\n"
     ]
    }
   ],
   "source": [
    "#SourcecodeProgram:\n",
    "#Default\n",
    "class Fish:\n",
    "    def __init__(self,nama,nama_akhir=\"Fish\"):\n",
    "        self.namaikan=nama\n",
    "        self.namaakhirikan=nama_akhir\n",
    "    def swimming(self):\n",
    "        print(\"The fish is swimming\")\n",
    "    def swin_backwards(self):\n",
    "        print('The fish can swim backwards')\n",
    "class trout(Fish):\n",
    "    pass\n",
    "class clownfish(Fish):\n",
    "    def live_with_anemone(self):\n",
    "        print(\"The clownfish is coexisting with sea anemone\")\n",
    "a=Fish(\"lol\")\n",
    "a.swimming()\n",
    "a.swin_backwards()\n",
    "t=trout(\"Terry\")\n",
    "print(t.namaikan,t.namaakhirikan)\n",
    "t.swimming()\n",
    "t.swin_backwards()\n",
    "casey=clownfish(\"Lol2\")\n",
    "casey.swimming()\n",
    "casey.swin_backwards()\n",
    "casey.live_with_anemone()\n",
    "\n",
    "\n",
    "\n",
    "\n",
    "\n"
   ]
  },
  {
   "cell_type": "code",
   "execution_count": 4,
   "metadata": {},
   "outputs": [
    {
     "name": "stdout",
     "output_type": "stream",
     "text": [
      "The fish is swimming\n",
      "The fish can swim backwards\n",
      "Axe Shark\n",
      "The fish is swimming\n",
      "Shark sink backward\n"
     ]
    }
   ],
   "source": [
    "#Overidding\n",
    "class Fish:\n",
    "    def __init__(self,nama,nama_akhir=\"Fish\"):\n",
    "        self.namaikan=nama\n",
    "        self.namaakhirikan=nama_akhir\n",
    "    def swimming(self):\n",
    "        print(\"The fish is swimming\")\n",
    "    def swin_backwards(self):\n",
    "        print('The fish can swim backwards')\n",
    "class shark(Fish):\n",
    "    def __init__(self,nama,nama_akhir='Shark'):\n",
    "        self.namaikan=nama\n",
    "        self.namaakhirikan=nama_akhir\n",
    "    def swin_backwards(self):\n",
    "        print('Shark sink backward')\n",
    "a=Fish(\"lol\")\n",
    "a.swimming()\n",
    "a.swin_backwards()\n",
    "d=shark(\"Axe\")\n",
    "print(d.namaikan,d.namaakhirikan)\n",
    "d.swimming()\n",
    "d.swin_backwards()\n"
   ]
  },
  {
   "cell_type": "code",
   "execution_count": 5,
   "metadata": {},
   "outputs": [
    {
     "name": "stdout",
     "output_type": "stream",
     "text": [
      "The fish is swimming\n",
      "The fish can swim backwards\n",
      "Trout1 Fish\n",
      "fresh water\n",
      "The fish is swimming\n",
      "The fish can swim backwards\n",
      "Trout2 Fish\n",
      "fresh water\n",
      "The fish is swimming\n",
      "The fish can swim backwards\n"
     ]
    }
   ],
   "source": [
    "#Super\n",
    "class Fish:\n",
    "    def __init__(self,nama,nama_akhir=\"Fish\"):\n",
    "        self.namaikan=nama\n",
    "        self.namaakhirikan=nama_akhir\n",
    "    def swimming(self):\n",
    "        print(\"The fish is swimming\")\n",
    "    def swin_backwards(self):\n",
    "        print('The fish can swim backwards')\n",
    "class trout1(Fish):\n",
    "    def __init__(self,nama,nama_akhir=\"Fish\",water=\"fresh water\"):\n",
    "        self.water=water\n",
    "        self.namaikan=nama\n",
    "        self.namaakhirikan=nama_akhir\n",
    "        Fish.__init__(self,nama,nama_akhir=\"Fish\")\n",
    "class trout2(Fish):\n",
    "    def __init__(self,nama,nama_akhir=\"Fish\",water=\"fresh water\"):\n",
    "        self.water=water\n",
    "        Fish.__init__(self,nama,nama_akhir=\"Fish\")\n",
    "a=Fish(\"lol\")\n",
    "a.swimming()\n",
    "a.swin_backwards()\n",
    "e=trout1(\"Trout1\")\n",
    "print(e.namaikan,e.namaakhirikan)\n",
    "print(e.water)\n",
    "e.swimming()\n",
    "e.swin_backwards()\n",
    "h=trout2(\"Trout2\")\n",
    "print(h.namaikan,h.namaakhirikan)\n",
    "print(h.water)\n",
    "h.swimming()\n",
    "h.swin_backwards()"
   ]
  },
  {
   "cell_type": "code",
   "execution_count": 6,
   "metadata": {},
   "outputs": [
    {
     "name": "stdout",
     "output_type": "stream",
     "text": [
      "Coral lives in a community\n",
      "Anemone protect the clownfish\n",
      "Coral lives in a community\n",
      "Anemone protect the clownfish\n"
     ]
    }
   ],
   "source": [
    "#Multiple1\n",
    "class Coral:\n",
    "    def community(self):\n",
    "        print('Coral lives in a community')\n",
    "class Anemone:\n",
    "    def protection(self):\n",
    "        print('Anemone protect the clownfish')\n",
    "class CoralReff(Coral,Anemone):\n",
    "    pass\n",
    "f=Coral()\n",
    "f.community()\n",
    "g=Anemone()\n",
    "g.protection()\n",
    "i=CoralReff()\n",
    "i.community()\n",
    "i.protection()\n"
   ]
  },
  {
   "cell_type": "code",
   "execution_count": 7,
   "metadata": {},
   "outputs": [
    {
     "name": "stdout",
     "output_type": "stream",
     "text": [
      "Masukkan nama : sad\n",
      "Masukkan jenis rambut : sfa\n",
      "Masukkan berat badan : 12\n",
      "Nama : sad\n",
      "Jenis rambut : sfa\n",
      "Berat badan : 12 kg\n"
     ]
    }
   ],
   "source": [
    "#Multiple2\n",
    "class kuda :\n",
    "    def __init__(self,nama,jenisrambut):\n",
    "        self.nama=nama\n",
    "        self.rambut=jenisrambut\n",
    "    def tampilkannama(self):\n",
    "        print(\"Nama :\",self.nama)\n",
    "    def tampilkanrambut(self):\n",
    "        print(\"Jenis rambut :\",self.rambut)\n",
    "class keledai:\n",
    "    def __init__(self,nama,beratbadan):\n",
    "        self.beratbadan=beratbadan\n",
    "        self.nama=nama\n",
    "    def tampilkan1(self):\n",
    "        print(self.nama)\n",
    "    def tampilkan(self):\n",
    "        print(\"Berat badan :\",self.beratbadan,'kg')\n",
    "class mule (kuda,keledai):\n",
    "    def __init__(self,nama,jenisrambut,beratbadan):\n",
    "        kuda.__init__(self,nama,jenisrambut)\n",
    "        keledai.__init__(self,nama,beratbadan)\n",
    "\n",
    "trot=mule(input(\"Masukkan nama : \"),input(\"Masukkan jenis rambut : \"),int(input(\"Masukkan berat badan : \")))\n",
    "trot.tampilkannama()\n",
    "trot.tampilkanrambut()\n",
    "trot.tampilkan()"
   ]
  },
  {
   "attachments": {},
   "cell_type": "markdown",
   "metadata": {},
   "source": [
    "# Polymorphism\n",
    "\n",
    "![](Github/Picture1.png])\n",
    "Contoh konsep polimorfisme \n",
    "\n",
    "Polimoerfisme : Metode pemanggilan attribute dengan sifat beda (sesuai jenis objek) dengan method yang sama\n",
    "\n",
    "Polimorfisme terbagi atas tiga metode pemanggilan :\n",
    "\n",
    "1. Polymorphism with a Function\n",
    "\n",
    "    Metode ini menggunakan fungsi (def ... ():) yang memungkinkan pengambilan beberapa objek sekaligus dan melakukan polimorfisme.\n",
    "    \n",
    "    contoh :\n",
    "    ![](Github/Screenshot%20%2829%29.png)\n",
    "    \n",
    "2. Polymorphism with method\n",
    "\n",
    "    Metode ini memungkinkan pemanggilan objek dengan method yang sama, sehingga terjadi Polimorfisme.\n",
    "    \n",
    "    contoh :\n",
    "    ![](Github/Screenshot%20%2831%29.png)\n",
    "    \n",
    "3. Polymorphisme with abstract class\n",
    "\n",
    "    Metode ini menggunakan Class abstract yang mana pendefinisian Class berada pada Subclass-nya, dan menggunakan fungsi raise serta return untuk memberikan nilai/value pada method yang sama antara kelas induk dan kelas anak.\n",
    "    \n",
    "    contoh :\n",
    "   ![](Github/Screenshot%20%2833%29.png)\n"
   ]
  },
  {
   "cell_type": "code",
   "execution_count": 10,
   "metadata": {},
   "outputs": [
    {
     "name": "stdout",
     "output_type": "stream",
     "text": [
      "The sharks skeleton is made of cartilage\n",
      "The Clownfish's skeleton is made of bone\n",
      "The Clownfish is swimming\n",
      "The shark is swimming\n"
     ]
    }
   ],
   "source": [
    "#Sourcecodeprogram:\n",
    "class shark():\n",
    "    def swim(self):\n",
    "        print(\"The shark is swimming\")\n",
    "    def swim_backwards(self):\n",
    "        print('The sharks cannot swmming backwards, but can sink backwards')\n",
    "    def skeleton(self):\n",
    "        print('The sharks skeleton is made of cartilage')\n",
    "class Clownfish():\n",
    "    def swim(self):\n",
    "        print(\"The Clownfish is swimming\")\n",
    "    def swim_backwards(self):\n",
    "        print('The Clownfish can can backwards')\n",
    "    def skeleton(self):\n",
    "        print(\"The Clownfish's skeleton is made of bone\")\n",
    "sammy = shark()\n",
    "sammy.skeleton()\n",
    "casey=Clownfish()\n",
    "casey.skeleton()\n",
    "def in_the_pacific(fish):\n",
    "    fish.swim()\n",
    "in_the_pacific(casey)\n",
    "in_the_pacific(sammy)"
   ]
  },
  {
   "cell_type": "code",
   "execution_count": 11,
   "metadata": {},
   "outputs": [
    {
     "name": "stdout",
     "output_type": "stream",
     "text": [
      "Groarr\n",
      "Woof!\n",
      "Groarr\n",
      "Woof!\n"
     ]
    }
   ],
   "source": [
    "class Bear():\n",
    "    def sound(self):\n",
    "        print('Groarr')\n",
    "class Dog():\n",
    "    def sound(self):\n",
    "        print('Woof!')\n",
    "def makeSound(animal):\n",
    "    animal.sound()\n",
    "a=Bear()\n",
    "b=Dog()\n",
    "makeSound(a)\n",
    "makeSound(b)\n",
    "for asik in (a,b):\n",
    "    asik.sound()"
   ]
  },
  {
   "cell_type": "code",
   "execution_count": 12,
   "metadata": {},
   "outputs": [
    {
     "name": "stdout",
     "output_type": "stream",
     "text": [
      "Document1 : Show PDF content!\n",
      "Document2 : Show PDF content!\n",
      "Document3 : Show Word content!\n"
     ]
    }
   ],
   "source": [
    "class Document:\n",
    "    def __init__(self,name):\n",
    "        self.name=name\n",
    "    def show(self):\n",
    "        raise NotImplementedError(\"Subclass must implement abstract method\")\n",
    "class Pdf(Document):\n",
    "    def show(self):\n",
    "        return \"Show PDF content!\"\n",
    "class Word(Document):\n",
    "    def show(self):\n",
    "        return \"Show Word content!\"\n",
    "documents=[Pdf('Document1'),Pdf('Document2'),Word('Document3')]\n",
    "for document in documents:\n",
    "    print(document.name,\":\",document.show())"
   ]
  },
  {
   "cell_type": "code",
   "execution_count": null,
   "metadata": {},
   "outputs": [],
   "source": []
  }
 ],
 "metadata": {
  "kernelspec": {
   "display_name": "Python 3",
   "language": "python",
   "name": "python3"
  },
  "language_info": {
   "codemirror_mode": {
    "name": "ipython",
    "version": 3
   },
   "file_extension": ".py",
   "mimetype": "text/x-python",
   "name": "python",
   "nbconvert_exporter": "python",
   "pygments_lexer": "ipython3",
   "version": "3.7.1"
  }
 },
 "nbformat": 4,
 "nbformat_minor": 2
}
