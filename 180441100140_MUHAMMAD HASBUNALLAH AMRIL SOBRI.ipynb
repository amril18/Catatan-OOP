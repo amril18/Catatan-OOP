{
 "cells": [
  {
   "cell_type": "markdown",
   "metadata": {},
   "source": [
    "# Catatan PBO Muhammad Hasbunallah Amril Sobri 180441100140"
   ]
  },
  {
   "attachments": {},
   "cell_type": "markdown",
   "metadata": {},
   "source": [
    "# Class VS Object\n",
    "![](Github/Picture2.png)\n",
    "Class adalah wadah pendefinisian umum sebuah objek. Contoh : Class Warna\n",
    "\n",
    "Class digunakan untuk membangun objek\n",
    "\n",
    "Objek adalah isi dalam class yang memiliki berbagai macam jenis(sekumpulan variabel) yang tercipta pada class. contoh : merah, kuning\n",
    "\n",
    "Properti : Atribut dalam kelas contoh (Manusia berambut)\n",
    "\n",
    "Method : Metode pada objek (Manusia berjalan)\n",
    "\n",
    "Class bisa digunakan sebagai blueprint dan penciptaan objek\n",
    "\n",
    "Constructor : Melakukan identifikasi objek pada class. Dilambangkan dengan (def_ _init_ _(Self,parameter input objek)\n",
    "\n",
    "Contoh :\n",
    "![](Github/Screenshot%20%2812%29.png)\n",
    "\n",
    "Contoh 2:\n",
    "![](Github/Screenshot%20%2837%29.png)\n"
   ]
  },
  {
   "cell_type": "code",
   "execution_count": 9,
   "metadata": {},
   "outputs": [
    {
     "name": "stdout",
     "output_type": "stream",
     "text": [
      "Luas permukaan :  16\n",
      "Volume kubus adalah 64\n"
     ]
    }
   ],
   "source": [
    "#SourceCodeContoh:\n",
    "#Contoh1:\n",
    "class kubus():\n",
    "    def __init__(self,s):\n",
    "        self.sisi=s\n",
    "    def tampilkanluaspermukaan(self):\n",
    "        print('Luas permukaan : ',self.sisi**2)\n",
    "    def volume(self):\n",
    "        print('Volume kubus adalah',self.sisi**3)\n",
    "kubus1=kubus(4)\n",
    "kubus1.tampilkanluaspermukaan()\n",
    "kubus1.volume()\n",
    "\n"
   ]
  },
  {
   "cell_type": "code",
   "execution_count": 8,
   "metadata": {},
   "outputs": [
    {
     "name": "stdout",
     "output_type": "stream",
     "text": [
      "Masukkan Nama Anda = asd\n",
      "Masukkan NIM anda = 180441100140\n",
      "Nama anda =  asd\n",
      "NIM =  180441100140\n",
      "Masukkan nilai IPS 1 = 3.00\n",
      "Masukkan nilai IPS 2 = 3.00\n",
      "Masukkan nilai IPS 3 = 3.00\n",
      "\n",
      "IPK anda =  3.0\n",
      "Selamat anda mendapatkan bidikmisi\n",
      "\n",
      "Times of this date :  2019-04-03 19:55:07.338320\n",
      "Saat ini Anda semester =  2\n"
     ]
    }
   ],
   "source": [
    "#Contoh2:\n",
    "from datetime import datetime\n",
    "from datetime import time\n",
    "class mhs:\n",
    "    def __init__ (self,nama,nim):\n",
    "        self.nama = nama\n",
    "        self.nim  = nim\n",
    "    def tampilkan(self):\n",
    "        print(\"Nama anda = \",self.nama)\n",
    "        print(\"NIM = \",self.nim)\n",
    "    def ipk(self):\n",
    "        ips1 = float(input(\"Masukkan nilai IPS 1 = \"))\n",
    "        ips2 = float(input(\"Masukkan nilai IPS 2 = \"))\n",
    "        ips3 = float(input(\"Masukkan nilai IPS 3 = \"))\n",
    "        ipk  = (ips1+ips2+ips3)/3\n",
    "        print()\n",
    "        print(\"IPK anda = \",ipk)\n",
    "        if ipk >= 3:\n",
    "            print (\"Selamat anda mendapatkan bidikmisi\")\n",
    "        else :\n",
    "            print (\"Maaf anda tidak mendapatkan bidikmisi\")\n",
    "    def semester(self):\n",
    "        skrg =datetime.now()\n",
    "        bln =datetime.now()\n",
    "        thn =str(skrg.year)\n",
    "        n = (bln.month)\n",
    "        print()\n",
    "        print(\"Times of this date : \",skrg)\n",
    "        a=int(self.nim[:2])\n",
    "        b=int(thn[2:])\n",
    "        month=int(n)\n",
    "        c=b-a\n",
    "        if a==b and month<8:\n",
    "            print (\"Anda belum terdaftar sebagai mahasiswa\")\n",
    "        else:\n",
    "            if c%2==1:\n",
    "                c+=1\n",
    "                print(\"Saat ini Anda semester = \",c)\n",
    "            else :\n",
    "                c+=2\n",
    "                print(\"Saat ini Anda semester = \",c)\n",
    "mahasiswa = mhs(input(\"Masukkan Nama Anda = \"),input(\"Masukkan NIM anda = \"))\n",
    "mahasiswa.tampilkan()\n",
    "mahasiswa.ipk()\n",
    "mahasiswa.semester()"
   ]
  },
  {
   "attachments": {},
   "cell_type": "markdown",
   "metadata": {},
   "source": [
    "### Inheritance\n",
    "<img src=\"Picture11.png\">\n",
    "\n",
    "Inheritance(Pewarisan) : Penurunan sifat (Attribute dan/atau Method) Class Parent (Kelas induk) kepada Class Children (Kelas Anak).\n",
    "\n",
    "Contoh implementasi Inheritance sederhana :\n",
    "<img src=\"Screenshot%20%2814%29.png\">"
   ]
  },
  {
   "cell_type": "code",
   "execution_count": 2,
   "metadata": {},
   "outputs": [
    {
     "name": "stdout",
     "output_type": "stream",
     "text": [
      "Name :  brian\n",
      "Name :  Diana\n",
      "Programming python\n"
     ]
    }
   ],
   "source": [
    "#Sourcecodeprogram:\n",
    "class user:\n",
    "    name = \"\"\n",
    "    
